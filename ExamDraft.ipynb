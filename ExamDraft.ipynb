{
 "cells": [
  {
   "cell_type": "code",
   "execution_count": null,
   "metadata": {},
   "outputs": [],
   "source": [
    "link=\"https://raw.githubusercontent.com/rixj/Biostatistical-Analysis/master/graduation.csv\"\n",
    "dat = read_csv(file = url(link))\n",
    "attach(dat)"
   ]
  },
  {
   "cell_type": "markdown",
   "metadata": {},
   "source": [
    "This exam uses graduation.csv data for examining differences in time to graduation among undergraduate students. Because of the way this data was created, the time outcome is somewhat strange, just interpret estimates as increase/decrease and multiplicatively as appropriate for the model (don’t attempt to state units).\n",
    "\n",
    "| name     | variable                                                             |\n",
    "|----------|----------------------------------------------------------------------|\n",
    "| id       | row number                                                           |\n",
    "| time     | time to undergraduate graduation                                     |\n",
    "| event    | a binary indicator of graduation (1 yes 0 no)                        |\n",
    "| prttime  | a binary indicator of if the student is parttime or not (1 yes 0 no) |\n",
    "| age      | age at college enrollment                                            |\n",
    "| gpa      | student's GPA at the start of their 2nd year                         |\n",
    "| dblmaj   | a binary indicator of if the student is a double major or not        |\n",
    "\n",
    "**Problem 1:** In survival analysis, the summary table 1 typically examines how the covariates (parttime, age, gpa, dblmaj) differ by event status. Be sure to include counts/measures of center and measure of significance. Create a single summary table 1, include appropriate figures, and write an interpretive paragraph."
   ]
  },
  {
   "cell_type": "code",
   "execution_count": null,
   "metadata": {},
   "outputs": [],
   "source": [
    "library(survival)\n",
    "sfit0 = survfit(Surv(time, event)~1)\n",
    "table(event,prttime)\n",
    "\n",
    "sfit1 = survfit(Surv(time, event)~prttime)\n",
    "\n",
    "table(event,age)\n",
    "sfit2 = survfit(Surv(time, event)~age)\n",
    "age2=ifelse(age>25,2,age)\n",
    "age1=ifelse(age2>20,1,age2)\n",
    "ageA=ifelse(age1>2,0,age1)\n",
    "table(event,ageA)\n",
    "sfit2a = survfit(Surv(time, event)~ageA)\n",
    "\n",
    "table(event,event)\n",
    "sfit3 = survfit(Surv(time, event)~gpa)\n",
    "gpaA = ifelse(gpa<2,0,1)\n",
    "table(event,gpaA)\n",
    "sfit3a = survfit(Surv(time, event)~gpaA)\n",
    "stack = NULL                     # 3 risk levels for \"gpa\"\n",
    "for (i in 1:length(gpa)) {\n",
    "  if (gpa[i] >= 3 ) {stack = c(stack, 2)}\n",
    "  else if (gpa[i] >= 2 ) {stack = c(stack, 1)}\n",
    "  else {stack = c(stack, 0)}\n",
    "}\n",
    "gpaB = stack;\n",
    "table(event,gpaB)\n",
    "sfit3b = survfit(Surv(time, event)~gpaB)\n",
    "\n",
    "table(event,dblmaj)\n",
    "sfit4 = survfit(Surv(time, event)~dblmaj)\n",
    "\n",
    "library(oddsratio)\n",
    "fitglm = glm(event~prttime+age+gpa+dblmaj, family=\"binomial\")\n",
    "logit = fitglm$coefficients\n",
    "exp(logit)                # odds ratio\n",
    "exp(logit)/(1+exp(logit)) # probability"
   ]
  },
  {
   "cell_type": "markdown",
   "metadata": {},
   "source": [
    "**Summary Table 1** where age and gpa are categorical we have:\n",
    "\n",
    "|         | Value         | n    | Dropped | Graduated | Survivalrate | Median   | 0.95LCL  | 0.95UCL  |\n",
    "|---------|---------------|------|---------|-----------|--------------|----------|----------|----------|\n",
    "| event   |               | 5000 | 186     | 4814      | 0.9628       | 4.99E-05 | 4.74E-05 | 5.24E-05 |\n",
    "| prttime | 0             | 3955 | 69      | 3886      | 0.982553729  | 3.54E-04 | 3.26E-04 | 3.83E-04 |\n",
    "|         | 1             | 1045 | 117     | 928       | 0.888038278  | 7.09E-05 | 6.80E-05 | 7.47E-05 |\n",
    "| dblmaj  | 0             | 4006 | 150     | 3856      | 0.962556166  | 4.91E-05 | 4.00E-05 | 6.09E-05 |\n",
    "|         | 1             | 994  | 36      | 958       | 0.963782696  | 2.07E-05 | 1.64E-05 | 3.24E-05 |\n",
    "| gpa     | GPA = 0-1.9   | 110  | 3       | 107       | 0.972727273  | 6.88E-05 | 4.75E-05 | 9.18E-05 |\n",
    "|         | GPA = 2.0-4.0 | 4890 | 183     | 4707      | 0.962576687  | 6.95E-05 | 6.48E-05 | 7.70E-05 |\n",
    "| age     | 26 years +    | 75   | 0       | 75        | 1            | 6.71E-05 | 6.38E-05 | 7.09E-05 |\n",
    "|         | 21-25 years   | 442  | 8       | 434       | 0.981900452  | 6.53E-05 | 6.21E-05 | 6.83E-05 |\n",
    "|         | 17-20 years   | 4483 | 178     | 4305      | 0.960294446  | 8.08E-05 | 7.35E-05 | 9.01E-05 |\n",
    "\n",
    "Information on Continuous Values (age and gpa)\n",
    "\n",
    "|     | Values       | Min, Max |\n",
    "|-----|--------------|----------|\n",
    "| age | 18.60 ± 1.99 | 17, 41   |\n",
    "| gpa | 3.11 ± 0.45  | 0.5, 4   |\n",
    "\n",
    "Odds-ratio Table\n",
    "\n",
    "|         | odds ratio | probability |\n",
    "|---------|------------|-------------|\n",
    "| prttime | 0.1392271  | 0.1222119   |\n",
    "| age     | 1.1809622  | 0.5414868   |\n",
    "| gpa     | 1.2274882  | 0.5510638   |\n",
    "| dblmaj  | 1.0118082  | 0.5029347   |\n",
    "\n",
    "**Summary:**\n",
    "A survival curve is based on a tabulation of the number at risk and number of events at each unique death time. Sfit0: Not considering any predictors, this survival model reports on time and the survival probability data set. Looking at Summary Table 1 we see the following:\n",
    "Part-time students are less likely to graduate. Every student who was older than 25 graduated. Older students were more likely to graduate. Surprisingly, students with a GPA < 2.0 were more likely to graduate than higher-GPA students. Double-major students were at the same graduation rate as peers who did not.\n",
    "\n",
    "**Problem 2:** Fit a survival model for the data of interest. Present your best model. Explain why you fit the model you do, what covariates you use and why, examine model diagnostics, and write an interpretive paragraph."
   ]
  },
  {
   "cell_type": "code",
   "execution_count": null,
   "metadata": {},
   "outputs": [],
   "source": [
    "survreg(Surv(time, event)~prttime ,dist = 'weibull')\n",
    "# Coefficients:\n",
    "# (Intercept)     prttime \n",
    "#   -9.517438    1.942824 \n",
    "# Scale= 1.007439 \n",
    "# Loglik(model)= 39186.3   Loglik(intercept only)= 37857.9\n",
    "# \tChisq= 2656.8 on 1 degrees of freedom, p= <2e-16 \n",
    "\n",
    "survreg(Surv(time, event)~age ,dist = 'weibull')\n",
    "# Coefficients:\n",
    "# (Intercept)         age \n",
    "# -7.45726007 -0.08147991 \n",
    "# Scale= 1.372977 \n",
    "# Loglik(model)= 37887.7   Loglik(intercept only)= 37857.9\n",
    "# \tChisq= 59.78 on 1 degrees of freedom, p= 1.06e-14 \n",
    "\n",
    "survreg(Surv(time, event)~gpa ,dist = 'weibull')\n",
    "# Coefficients:\n",
    "#  (Intercept)          gpa \n",
    "# -8.943993339 -0.007628517 \n",
    "# Scale= 1.379051 \n",
    "# Loglik(model)= 37857.9   Loglik(intercept only)= 37857.9\n",
    "# \tChisq= 0.03 on 1 degrees of freedom, p= 0.863 \n",
    "\n",
    "survreg(Surv(time, event)~dblmaj ,dist = 'weibull')\n",
    "# Coefficients:\n",
    "# (Intercept)      dblmaj \n",
    "# -8.98532474  0.08609219 \n",
    "# Scale= 1.379052 \n",
    "# Loglik(model)= 37859.4   Loglik(intercept only)= 37857.9\n",
    "# \tChisq= 3.03 on 1 degrees of freedom, p= 0.0818 "
   ]
  },
  {
   "cell_type": "markdown",
   "metadata": {},
   "source": [
    "The p-value for the Chi-squared test for prttime and age is < 0.05 which means that prttime and age are our only significant factors. So our final model will only include these variables."
   ]
  },
  {
   "cell_type": "code",
   "execution_count": null,
   "metadata": {},
   "outputs": [],
   "source": [
    "survreg(Surv(time,event)~prttime+age , dist='weibull')\n",
    "# Coefficients:\n",
    "# (Intercept)     prttime         age \n",
    "#  -7.6974565   1.9599230  -0.0984771 \n",
    "# Scale= 0.9901143 \n",
    "# Loglik(model)= 39264.4   Loglik(intercept only)= 37857.9\n",
    "# \tChisq= 2813.13 on 2 degrees of freedom, p= <2e-16 "
   ]
  },
  {
   "cell_type": "markdown",
   "metadata": {},
   "source": [
    "Our final model has a p-value = 0.\n",
    "\n",
    "**Problem 3:** Consider the GPA variable. It may be more informative to examine a binary version of this variable, e.g. if the student had a failing GPA at the start of their 2nd year. Examine model diagnostics and write an interpretive paragraph. Also, examine and explain how this consideration alters your model from your best model. Is there any concern with altering the GPA variable in this way?"
   ]
  },
  {
   "cell_type": "code",
   "execution_count": null,
   "metadata": {},
   "outputs": [],
   "source": [
    "survreg(Surv(time, event)~gpa ,dist = 'weibull')\n",
    "# Coefficients:\n",
    "#  (Intercept)          gpa \n",
    "# -8.943993339 -0.007628517 \n",
    "# Scale= 1.379051 \n",
    "# Loglik(model)= 37857.9   Loglik(intercept only)= 37857.9\n",
    "# \tChisq= 0.03 on 1 degrees of freedom, p= 0.863 \n",
    "\n",
    "survreg(Surv(time, event)~ifelse(gpa<2,0,1) ,dist = 'weibull')\n",
    "# Call:\n",
    "# Coefficients:\n",
    "#           (Intercept) ifelse(gpa < 2, 0, 1) \n",
    "#           -9.03914650            0.07301119 \n",
    "# Scale= 1.378955 \n",
    "# Loglik(model)= 37858   Loglik(intercept only)= 37857.9\n",
    "# \tChisq= 0.29 on 1 degrees of freedom, p= 0.591 \n",
    "\n",
    "survreg(Surv(time, event)~ifelse(gpa<1,0,1) ,dist = 'weibull')\n",
    "# Coefficients:\n",
    "#           (Intercept) ifelse(gpa < 1, 0, 1) \n",
    "#             -7.875628             -1.093378 \n",
    "# Scale= 1.378729\n",
    "# Loglik(model)= 37859.5   Loglik(intercept only)= 37857.9\n",
    "# \tChisq= 3.33 on 1 degrees of freedom, p= 0.068 \n",
    "\n",
    "survdiff(Surv(time, event)~ifelse(gpa<1,0,1))\n",
    "#                            N Observed Expected (O-E)^2/E (O-E)^2/V\n",
    "# ifelse(gpa < 1, 0, 1)=0    5        4     8.48   2.36853      2.37\n",
    "# ifelse(gpa < 1, 0, 1)=1 4995     4810  4805.52   0.00418      2.37\n",
    "\n",
    "#  Chisq= 2.4  on 1 degrees of freedom, p= 0.1 "
   ]
  },
  {
   "cell_type": "markdown",
   "metadata": {},
   "source": [
    "When gpa is a binary value and determined by sophomores who have a GPA < 2, the p-value decreases from 0.86 to 0.59 but it is still not a significant value to be incorporated into our model. When gpa is a binary value and determined by failing sophomores defined by students who have a GPA < 1, the p-value decreases from 0.86 to 0.07 which may be signficant factor if our $\\alpha$ = 0.10. Our model is unchanged because it does not include gpa anyways.\n",
    "\n",
    "**Problem 4:** Fit a logistic model for the event indicator rather than a survival model (pick your covariate set from either 2 or 3). Make interpretations and comparisons. Is this a better way to examine this data? Why or why not?"
   ]
  },
  {
   "cell_type": "code",
   "execution_count": null,
   "metadata": {},
   "outputs": [],
   "source": [
    "glmfit = glm(event~prttime+age,family=binomial(link=logit))\n",
    "summary(glmfit)\n",
    "\n",
    "# Call:\n",
    "# glm(formula = event ~ prttime + age, family = binomial(link = logit))\n",
    "\n",
    "# Deviance Residuals: \n",
    "#     Min       1Q   Median       3Q      Max  \n",
    "# -3.2055   0.1779   0.1932   0.2097   0.5438  \n",
    "\n",
    "# Coefficients:\n",
    "#             Estimate Std. Error z value Pr(>|z|)    \n",
    "# (Intercept)  0.99078    1.04225   0.951  0.34180    \n",
    "# prttime     -1.96975    0.15640 -12.594  < 2e-16 ***\n",
    "# age          0.16564    0.05695   2.908  0.00363 ** \n",
    "# ---\n",
    "# Signif. codes:  0 ‘***’ 0.001 ‘**’ 0.01 ‘*’ 0.05 ‘.’ 0.1 ‘ ’ 1\n",
    "\n",
    "# (Dispersion parameter for binomial family taken to be 1)\n",
    "\n",
    "#     Null deviance: 1589.4  on 4999  degrees of freedom\n",
    "# Residual deviance: 1417.5  on 4997  degrees of freedom\n",
    "# AIC: 1423.5\n",
    "\n",
    "# Number of Fisher Scoring iterations: 7\n",
    "\n",
    "1-pchisq(1589.4-1417.5, 4999-4996)\n",
    "# [1] 0\n",
    "exp(1)**(-1.98)\n",
    "# [1] 0.1380692"
   ]
  },
  {
   "cell_type": "markdown",
   "metadata": {},
   "source": [
    "Using the logistic model we get the null deviance and residual deviance so we can compare the null model to our model and we calculate the p-value which is 0, asserting that this is a significant model. When testing the association between (prttime and age) and graduating we reject the null hypothesis at the 0.05 alpha level. We can also check the log odds ratio."
   ]
  },
  {
   "cell_type": "code",
   "execution_count": null,
   "metadata": {},
   "outputs": [],
   "source": [
    "fitglm = glm(event~prttime+age, family=\"binomial\")\n",
    "logit = fitglm$coefficients\n",
    "exp(logit)                # odds ratio\n",
    "# (Intercept)     prttime         age \n",
    "#    2.693333    0.139492    1.180143 \n",
    "exp(logit)/(1+exp(logit)) # probability\n",
    "# (Intercept)     prttime         age \n",
    "#   0.7292418   0.1224160   0.5413145 "
   ]
  },
  {
   "cell_type": "markdown",
   "metadata": {},
   "source": [
    "This supports our previous calculation that prttime students are 0.122 times more likely to graduate than full-time students, which in other words means full-time students are 8.2 times more likely to graduate. Also older students are 18% more likely to graduate than younger students."
   ]
  },
  {
   "cell_type": "code",
   "execution_count": null,
   "metadata": {},
   "outputs": [],
   "source": [
    "preds = predict(glmfit, dat[,4:5])\n",
    "nroc = roc(event, preds)\n",
    "auc(nroc)\n",
    "# Area under the curve: 0.7477"
   ]
  },
  {
   "attachments": {
    "nroc.png": {
     "image/png": "[encoded data removed]"
    }
   },
   "cell_type": "markdown",
   "metadata": {},
   "source": [
    "![nroc.png](attachment:nroc.png)\n",
    "\n",
    "The graph is a better display of whether or not a student will graduate and the graph shape being more of a 90-degree angle than a y=x slope shows that it is a good prediction model."
   ]
  }
 ],
 "metadata": {
  "kernelspec": {
   "display_name": "R",
   "language": "R",
   "name": "ir"
  },
  "language_info": {
   "codemirror_mode": "r",
   "file_extension": ".r",
   "mimetype": "text/x-r-source",
   "name": "R",
   "pygments_lexer": "r",
   "version": "3.5.1"
  }
 },
 "nbformat": 4,
 "nbformat_minor": 2
}
