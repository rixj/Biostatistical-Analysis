{
 "cells": [
  {
   "cell_type": "code",
   "execution_count": null,
   "metadata": {},
   "outputs": [],
   "source": [
    "library(dplyr)\n",
    "iris"
   ]
  },
  {
   "cell_type": "markdown",
   "metadata": {},
   "source": [
    "This exam uses graduation.csv data for examining differences in time to graduation among undergraduate students. Because of the way this data was created, the time outcome is somewhat strange, just interpret estimates as increase/decrease and multiplicatively as appropriate for the model (don’t attempt to state units).\n",
    "\n",
    "| name     | variable                                                             |\n",
    "|----------|----------------------------------------------------------------------|\n",
    "| id       | row number                                                           |\n",
    "| time     | time to undergraduate graduation                                     |\n",
    "| event    | a binary indicator of graduation (1 yes 0 no)                        |\n",
    "| prttime  | a binary indicator of if the student is parttime or not (1 yes 0 no) |\n",
    "| age      | age at college enrollment                                            |\n",
    "| gpa      | student's GPA at the start of their 2nd year                         |\n",
    "| dblmaj   | a binary indicator of if the student is a double major or not        |\n",
    "\n",
    "**Problem 1:** In survival analysis, the summary table 1 typically examines how the covariates (parttime, age, gpa, dblmaj) differ by event status. Be sure to include counts/measures of center and measure of significance. Create a single summary table 1, include appropriate figures, and write an interpretive paragraph."
   ]
  },
  {
   "cell_type": "code",
   "execution_count": null,
   "metadata": {},
   "outputs": [],
   "source": [
    "library(\"tidyverse\")\n",
    "link=\"https://raw.githubusercontent.com/rixj/Biostatistical-Analysis/master/graduation.csv\"\n",
    "dat = read_csv(file = url(link))\n",
    "attach(dat)"
   ]
  },
  {
   "cell_type": "markdown",
   "metadata": {},
   "source": [
    "A survival curve is based on a tabulation of the number at risk and number of events at each unique death time. When time is a floating point number the definition of \"unique\" is subject to interpretation. "
   ]
  },
  {
   "cell_type": "markdown",
   "metadata": {},
   "source": [
    "S~1 : Not considering any predictors, so it reports on time. General survival probability data set."
   ]
  },
  {
   "cell_type": "code",
   "execution_count": null,
   "metadata": {},
   "outputs": [],
   "source": [
    "sfit0 = survfit(Surv(time, event)~1)"
   ]
  },
  {
   "cell_type": "markdown",
   "metadata": {},
   "source": [
    "We run the following code to create Summary Table 1."
   ]
  },
  {
   "cell_type": "code",
   "execution_count": null,
   "metadata": {},
   "outputs": [],
   "source": [
    "table(event,prttime)\n",
    "sfit1 = survfit(Surv(time, event)~prttime)\n",
    "\n",
    "table(event,age)\n",
    "sfit2 = survfit(Surv(time, event)~age)\n",
    "age2=ifelse(age>25,2,age)\n",
    "age1=ifelse(age2>20,1,age2)\n",
    "ageA=ifelse(age1>2,0,age1)\n",
    "table(event,ageA)\n",
    "sfit2a = survfit(Surv(time, event)~ageA)\n",
    "\n",
    "table(event,event)\n",
    "sfit3 = survfit(Surv(time, event)~gpa)\n",
    "gpaA = ifelse(gpa<2,0,1)\n",
    "table(event,gpaA)\n",
    "sfit3a = survfit(Surv(time, event)~gpaA)\n",
    "stack = NULL                     # 3 risk levels for \"gpa\"\n",
    "for (i in 1:length(gpa)) {\n",
    "  if (gpa[i] >= 3 ) {stack = c(stack, 2)}\n",
    "  else if (gpa[i] >= 2 ) {stack = c(stack, 1)}\n",
    "  else {stack = c(stack, 0)}\n",
    "}\n",
    "gpaB = stack;\n",
    "table(event,gpaB)\n",
    "sfit3b = survfit(Surv(time, event)~gpaB)\n",
    "\n",
    "table(event,dblmaj)\n",
    "sfit4 = survfit(Surv(time, event)~dblmaj)"
   ]
  },
  {
   "cell_type": "markdown",
   "metadata": {},
   "source": [
    "**Summary Table 1** where age and gpa are categorical we have:\n",
    "\n",
    "|         | Value   | n    | n-Graduated | Graduated | median   | 0.95LCL  | 0.95UCL  |\n",
    "|---------|---------|------|-------------|-----------|----------|----------|----------|\n",
    "| event   | -       | 5000 | 186         | 4814      | 4.99E-05 | 4.74E-05 | 5.24E-05 |\n",
    "| prttime | 0       | 3955 | 69          | 3886      | 3.54E-04 | 3.26E-04 | 3.83E-04 |\n",
    "|         | 1       | 1045 | 117         | 928       | 7.09E-05 | 6.80E-05 | 7.47E-05 |\n",
    "| dblmaj  | 0       | 4006 | 150         | 3856      | 4.91E-05 | 4.00E-05 | 6.09E-05 |\n",
    "|         | 1       | 994  | 36          | 958       | 2.07E-05 | 1.64E-05 | 3.24E-05 |\n",
    "| gpa     | 0-1.9   | 110  | 3           | 107       | 6.88E-05 | 4.75E-05 | 9.18E-05 |\n",
    "|         | 2.0-4.0 | 4890 | 183         | 4707      | 6.95E-05 | 6.48E-05 | 7.70E-05 |\n",
    "| age     | 26+     | 75   | 0           | 75        | 6.71E-05 | 6.38E-05 | 7.09E-05 |\n",
    "|         | 21-25   | 442  | 8           | 434       | 6.53E-05 | 6.21E-05 | 6.83E-05 |\n",
    "|         | 17-20   | 4483 | 178         | 4305      | 8.08E-05 | 7.35E-05 | 9.01E-05 |\n",
    "\n",
    "|     | Values       | Min, Max |\n",
    "|-----|--------------|----------|\n",
    "| age | 18.60 ± 1.99 | 17, 41   |\n",
    "| gpa | 3.11 ± 0.45  | 0.5, 4   |\n"
   ]
  },
  {
   "cell_type": "code",
   "execution_count": null,
   "metadata": {},
   "outputs": [],
   "source": []
  }
 ],
 "metadata": {
  "kernelspec": {
   "display_name": "R",
   "language": "R",
   "name": "ir"
  },
  "language_info": {
   "codemirror_mode": "r",
   "file_extension": ".r",
   "mimetype": "text/x-r-source",
   "name": "R",
   "pygments_lexer": "r",
   "version": "3.5.1"
  }
 },
 "nbformat": 4,
 "nbformat_minor": 2
}
