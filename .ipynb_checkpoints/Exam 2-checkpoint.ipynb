{
 "cells": [
  {
   "cell_type": "code",
   "execution_count": 11,
   "metadata": {},
   "outputs": [
    {
     "name": "stderr",
     "output_type": "stream",
     "text": [
      "also installing the dependencies ‘httpuv’, ‘xtable’, ‘sourcetools’, ‘openssl’, ‘shiny’, ‘later’, ‘httr’, ‘htmlwidgets’, ‘hexbin’, ‘crosstalk’, ‘data.table’, ‘promises’\n",
      "\n",
      "Warning message in install.packages(\"plotly\"):\n",
      "“installation of package ‘openssl’ had non-zero exit status”Warning message in install.packages(\"plotly\"):\n",
      "“installation of package ‘httr’ had non-zero exit status”Warning message in install.packages(\"plotly\"):\n",
      "“installation of package ‘httpuv’ had non-zero exit status”Warning message in install.packages(\"plotly\"):\n",
      "“installation of package ‘shiny’ had non-zero exit status”Warning message in install.packages(\"plotly\"):\n",
      "“installation of package ‘crosstalk’ had non-zero exit status”Warning message in install.packages(\"plotly\"):\n",
      "“installation of package ‘plotly’ had non-zero exit status”Updating HTML index of packages in '.Library'\n",
      "Making 'packages.html' ... done\n"
     ]
    }
   ],
   "source": [
    "#install.packages(\"dplyr\")\n",
    "#install.packages(\"survival\")\n",
    "#install.packages(\"tidyverse\")\n",
    "#install.packages(\"plotly\")"
   ]
  },
  {
   "cell_type": "code",
   "execution_count": 12,
   "metadata": {},
   "outputs": [
    {
     "ename": "ERROR",
     "evalue": "Error in library(tidyverse): there is no package called ‘tidyverse’\n",
     "output_type": "error",
     "traceback": [
      "Error in library(tidyverse): there is no package called ‘tidyverse’\nTraceback:\n",
      "1. library(tidyverse)",
      "2. stop(txt, domain = NA)"
     ]
    }
   ],
   "source": [
    "library(tidyverse)\n",
    "library(survminer)\n",
    "library(plotly)\n",
    "irisw"
   ]
  },
  {
   "cell_type": "markdown",
   "metadata": {},
   "source": [
    "This exam uses graduation.csv data for examining differences in time to graduation among undergraduate students. Because of the way this data was created, the time outcome is somewhat strange, just interpret estimates as increase/decrease and multiplicatively as appropriate for the model (don’t attempt to state units).\n",
    "\n",
    "| name     | variable                                                             |\n",
    "|----------|----------------------------------------------------------------------|\n",
    "| id       | row number                                                           |\n",
    "| time     | time to undergraduate graduation                                     |\n",
    "| event    | a binary indicator of graduation (1 yes 0 no)                        |\n",
    "| prttime  | a binary indicator of if the student is parttime or not (1 yes 0 no) |\n",
    "| age      | age at college enrollment                                            |\n",
    "| gpa      | student's GPA at the start of their 2nd year                         |\n",
    "| dblmaj   | a binary indicator of if the student is a double major or not        |\n",
    "\n",
    "**Problem 1:** In survival analysis, the summary table 1 typically examines how the covariates (parttime, age, gpa, dblmaj) differ by event status. Be sure to include counts/measures of center and measure of significance. Create a single summary table 1, include appropriate figures, and write an interpretive paragraph."
   ]
  },
  {
   "cell_type": "code",
   "execution_count": 13,
   "metadata": {},
   "outputs": [
    {
     "ename": "ERROR",
     "evalue": "Error in read_csv(file = url(link)): could not find function \"read_csv\"\n",
     "output_type": "error",
     "traceback": [
      "Error in read_csv(file = url(link)): could not find function \"read_csv\"\nTraceback:\n"
     ]
    }
   ],
   "source": [
    "link=\"https://raw.githubusercontent.com/rixj/Biostatistical-Analysis/master/graduation.csv\"\n",
    "dat = read_csv(file = url(link))\n",
    "attach(dat)"
   ]
  },
  {
   "cell_type": "markdown",
   "metadata": {},
   "source": [
    "A survival curve is based on a tabulation of the number at risk and number of events at each unique death time. When time is a floating point number the definition of \"unique\" is subject to interpretation. "
   ]
  },
  {
   "cell_type": "markdown",
   "metadata": {},
   "source": [
    "S~1 : Not considering any predictors, so it reports on time. General survival probability data set."
   ]
  },
  {
   "cell_type": "code",
   "execution_count": 8,
   "metadata": {},
   "outputs": [
    {
     "ename": "ERROR",
     "evalue": "Error in Surv(time, event): object 'event' not found\n",
     "output_type": "error",
     "traceback": [
      "Error in Surv(time, event): object 'event' not found\nTraceback:\n",
      "1. survfit(Surv(time, event) ~ 1)",
      "2. survfit.formula(Surv(time, event) ~ 1)",
      "3. eval.parent(temp)",
      "4. eval(expr, p)",
      "5. eval(expr, p)",
      "6. stats::model.frame(formula = Surv(time, event) ~ 1)",
      "7. model.frame.default(formula = Surv(time, event) ~ 1)",
      "8. eval(predvars, data, env)",
      "9. eval(predvars, data, env)",
      "10. Surv(time, event)"
     ]
    }
   ],
   "source": [
    "library(survival)\n",
    "sfit0 = survfit(Surv(time, event)~1)"
   ]
  },
  {
   "cell_type": "markdown",
   "metadata": {},
   "source": [
    "We run the following code to create Summary Table 1."
   ]
  },
  {
   "cell_type": "code",
   "execution_count": null,
   "metadata": {},
   "outputs": [],
   "source": [
    "table(event,prttime)\n",
    "sfit1 = survfit(Surv(time, event)~prttime)\n",
    "\n",
    "table(event,age)\n",
    "sfit2 = survfit(Surv(time, event)~age)\n",
    "age2=ifelse(age>25,2,age)\n",
    "age1=ifelse(age2>20,1,age2)\n",
    "ageA=ifelse(age1>2,0,age1)\n",
    "table(event,ageA)\n",
    "sfit2a = survfit(Surv(time, event)~ageA)\n",
    "\n",
    "table(event,event)\n",
    "sfit3 = survfit(Surv(time, event)~gpa)\n",
    "gpaA = ifelse(gpa<2,0,1)\n",
    "table(event,gpaA)\n",
    "sfit3a = survfit(Surv(time, event)~gpaA)\n",
    "stack = NULL                     # 3 risk levels for \"gpa\"\n",
    "for (i in 1:length(gpa)) {\n",
    "  if (gpa[i] >= 3 ) {stack = c(stack, 2)}\n",
    "  else if (gpa[i] >= 2 ) {stack = c(stack, 1)}\n",
    "  else {stack = c(stack, 0)}\n",
    "}\n",
    "gpaB = stack;\n",
    "table(event,gpaB)\n",
    "sfit3b = survfit(Surv(time, event)~gpaB)\n",
    "\n",
    "table(event,dblmaj)\n",
    "sfit4 = survfit(Surv(time, event)~dblmaj)"
   ]
  },
  {
   "cell_type": "markdown",
   "metadata": {},
   "source": [
    "**Summary Table 1** where age and gpa are categorical we have:\n",
    "\n",
    "|         | Value   | n    | n-Graduated | Graduated | median   | 0.95LCL  | 0.95UCL  |\n",
    "|---------|---------|------|-------------|-----------|----------|----------|----------|\n",
    "| event   | -       | 5000 | 186         | 4814      | 4.99E-05 | 4.74E-05 | 5.24E-05 |\n",
    "| prttime | 0       | 3955 | 69          | 3886      | 3.54E-04 | 3.26E-04 | 3.83E-04 |\n",
    "|         | 1       | 1045 | 117         | 928       | 7.09E-05 | 6.80E-05 | 7.47E-05 |\n",
    "| dblmaj  | 0       | 4006 | 150         | 3856      | 4.91E-05 | 4.00E-05 | 6.09E-05 |\n",
    "|         | 1       | 994  | 36          | 958       | 2.07E-05 | 1.64E-05 | 3.24E-05 |\n",
    "| gpa     | 0-1.9   | 110  | 3           | 107       | 6.88E-05 | 4.75E-05 | 9.18E-05 |\n",
    "|         | 2.0-4.0 | 4890 | 183         | 4707      | 6.95E-05 | 6.48E-05 | 7.70E-05 |\n",
    "| age     | 26+     | 75   | 0           | 75        | 6.71E-05 | 6.38E-05 | 7.09E-05 |\n",
    "|         | 21-25   | 442  | 8           | 434       | 6.53E-05 | 6.21E-05 | 6.83E-05 |\n",
    "|         | 17-20   | 4483 | 178         | 4305      | 8.08E-05 | 7.35E-05 | 9.01E-05 |\n",
    "\n",
    "|     | Values       | Min, Max |\n",
    "|-----|--------------|----------|\n",
    "| age | 18.60 ± 1.99 | 17, 41   |\n",
    "| gpa | 3.11 ± 0.45  | 0.5, 4   |"
   ]
  },
  {
   "cell_type": "code",
   "execution_count": 1,
   "metadata": {},
   "outputs": [
    {
     "ename": "ERROR",
     "evalue": "Error in eval(predvars, data, env): object 'event' not found\n",
     "output_type": "error",
     "traceback": [
      "Error in eval(predvars, data, env): object 'event' not found\nTraceback:\n",
      "1. glm(event ~ prttime + age + gpa + dblmaj, family = \"binomial\")",
      "2. eval(mf, parent.frame())",
      "3. eval(mf, parent.frame())",
      "4. stats::model.frame(formula = event ~ prttime + age + gpa + dblmaj, \n .     drop.unused.levels = TRUE)",
      "5. model.frame.default(formula = event ~ prttime + age + gpa + dblmaj, \n .     drop.unused.levels = TRUE)",
      "6. eval(predvars, data, env)",
      "7. eval(predvars, data, env)"
     ]
    }
   ],
   "source": [
    "fitglmA = glm(event~prttime+age+gpa+dblmaj, family=\"binomial\")\n",
    "logit = fitglmA$coefficients\n",
    "exp(logit)                # odds ratio\n",
    "exp(logit)/(1+exp(logit)) # probability"
   ]
  },
  {
   "cell_type": "markdown",
   "metadata": {},
   "source": [
    "Odds-ratio Table\n",
    "\n",
    "|         | odds ratio | probability |\n",
    "|---------|------------|-------------|\n",
    "| prttime | 0.1392271  | 0.1222119   |\n",
    "| age     | 1.1809622  | 0.5414868   |\n",
    "| gpa     | 1.2274882  | 0.5510638   |\n",
    "| dblmaj  | 1.0118082  | 0.5029347   |\n",
    "\n"
   ]
  },
  {
   "cell_type": "markdown",
   "metadata": {},
   "source": [
    "**Problem 1 response:** From Summary Table 1, we can see that We can see from the odds-ratio that the student is 7 times more likely to graduate if they are part-time. "
   ]
  }
 ],
 "metadata": {
  "kernelspec": {
   "display_name": "R",
   "language": "R",
   "name": "ir"
  },
  "language_info": {
   "codemirror_mode": "r",
   "file_extension": ".r",
   "mimetype": "text/x-r-source",
   "name": "R",
   "pygments_lexer": "r",
   "version": "3.5.1"
  }
 },
 "nbformat": 4,
 "nbformat_minor": 2
}
