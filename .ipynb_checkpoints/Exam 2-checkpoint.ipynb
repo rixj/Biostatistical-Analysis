{
 "cells": [
  {
   "cell_type": "code",
   "execution_count": null,
   "metadata": {},
   "outputs": [],
   "source": [
    "install.packages(\"dplyr\");library(dplyr)\n",
    "iris"
   ]
  },
  {
   "cell_type": "markdown",
   "metadata": {},
   "source": [
    "This exam uses graduation.csv data for examining differences in time to graduation among undergraduate students. Because of the way this data was created, the time outcome is somewhat strange, just interpret estimates as increase/decrease and multiplicatively as appropriate for the model (don’t attempt to state units).\n",
    "\n",
    "| name     | variable                                                             |\n",
    "|----------|----------------------------------------------------------------------|\n",
    "| id       | row number                                                           |\n",
    "| time     | time to undergraduate graduation                                     |\n",
    "| event    | a binary indicator of graduation (1 yes 0 no)                        |\n",
    "| prttime  | a binary indicator of if the student is parttime or not (1 yes 0 no) |\n",
    "| age      | age at college enrollment                                            |\n",
    "| gpa      | student's GPA at the start of their 2nd year                         |\n",
    "| dblmaj   | a binary indicator of if the student is a double major or not        |\n",
    "\n",
    "**Problem 1:** In survival analysis, the summary table 1 typically examines how the covariates (parttime, age, gpa, dblmaj) differ by event status. Be sure to include counts/measures of center and measure of significance. Create a single summary table 1, include appropriate figures, and write an interpretive paragraph.\n",
    "\n",
    "S~1 : Not considering any predictors, so it reports on time. General survival probability data set.\n",
    "\n",
    "**Summary Table 1**\n",
    "|     | Values       | Min, Max |\n",
    "|-----|--------------|----------|\n",
    "| age | 18.60 ± 1.99 | 17, 41   |\n",
    "| gpa | 3.11 ± 0.45  | 0.5, 4   |\n",
    "\n",
    "Making age and gpa categorical we have:\n",
    "\n",
    "|         | Value   | n    | n-Graduated | Graduated |\n",
    "|---------|---------|------|-------------|-----------|\n",
    "| event   | -       | 5000 | 186         | 4814      |\n",
    "| prttime | 0       | 3955 | 69          | 3886      |\n",
    "|         | 1       | 1045 | 117         | 928       |\n",
    "| dblmaj  | 0       | 4006 | 150         | 3856      |\n",
    "|         | 1       | 994  | 36          | 958       |\n",
    "| gpa     | 0-1.9   | 110  | 3           | 107       |\n",
    "|         | 2.0-4.0 | 4890 | 183         | 4707      |\n",
    "| age     | 26+     | 75   | 0           | 75        |\n",
    "|         | 21-25   | 442  | 8           | 434       |\n",
    "|         | 17-20   | 4483 | 178         | 4305      |\n",
    "\n"
   ]
  },
  {
   "cell_type": "code",
   "execution_count": null,
   "metadata": {},
   "outputs": [],
   "source": [
    "setwd(\"/Volumes/beep boop/uncw/420/exam2\"); \n",
    "grad = read.csv(\"graduation.csv\")\n",
    "id=grad$X; time=grad$time; event=grad$event; prttime=grad$prttime; age=grad$age; gpa=grad$gpa; dblmaj=grad$dblmaj;"
   ]
  },
  {
   "cell_type": "markdown",
   "metadata": {},
   "source": [
    "A survival curve is based on a tabulation of the number at risk and number of events at each unique death time. When time is a floating point number the definition of \"unique\" is subject to interpretation. \n",
    "\n",
    "**Summary Table 1**\n",
    "|     | Values       | Min, Max |\n",
    "|-----|--------------|----------|\n",
    "| age | 18.60 ± 1.99 | 17, 41   |\n",
    "| gpa | 3.11 ± 0.45  | 0.5, 4   |\n",
    "\n",
    "Making age and gpa categorical we have:\n",
    "\n",
    "|         | Value   | n    | n-Graduated | Graduated |\n",
    "|---------|---------|------|-------------|-----------|\n",
    "| event   | -       | 5000 | 186         | 4814      |\n",
    "| prttime | 0       | 3955 | 69          | 3886      |\n",
    "|         | 1       | 1045 | 117         | 928       |\n",
    "| dblmaj  | 0       | 4006 | 150         | 3856      |\n",
    "|         | 1       | 994  | 36          | 958       |\n",
    "| gpa     | 0-1.9   | 110  | 3           | 107       |\n",
    "|         | 2.0-4.0 | 4890 | 183         | 4707      |\n",
    "| age     | 26+     | 75   | 0           | 75        |\n",
    "|         | 21-25   | 442  | 8           | 434       |\n",
    "|         | 17-20   | 4483 | 178         | 4305      |\n",
    "\n"
   ]
  },
  {
   "cell_type": "code",
   "execution_count": null,
   "metadata": {},
   "outputs": [],
   "source": []
  },
  {
   "cell_type": "code",
   "execution_count": null,
   "metadata": {},
   "outputs": [],
   "source": []
  },
  {
   "cell_type": "code",
   "execution_count": null,
   "metadata": {},
   "outputs": [],
   "source": []
  }
 ],
 "metadata": {
  "kernelspec": {
   "display_name": "R",
   "language": "R",
   "name": "ir"
  },
  "language_info": {
   "codemirror_mode": "r",
   "file_extension": ".r",
   "mimetype": "text/x-r-source",
   "name": "R",
   "pygments_lexer": "r",
   "version": "3.5.1"
  }
 },
 "nbformat": 4,
 "nbformat_minor": 2
}
